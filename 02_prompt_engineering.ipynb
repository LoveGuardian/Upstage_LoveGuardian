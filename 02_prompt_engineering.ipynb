{
 "cells": [
  {
   "cell_type": "code",
   "execution_count": 13,
   "metadata": {},
   "outputs": [],
   "source": [
    "! pip3 install -qU langchain-upstage"
   ]
  },
  {
   "cell_type": "code",
   "execution_count": 14,
   "metadata": {},
   "outputs": [],
   "source": [
    "! pip3 install -qU langchain-upstage pypdf"
   ]
  },
  {
   "cell_type": "code",
   "execution_count": 15,
   "metadata": {},
   "outputs": [
    {
     "name": "stdout",
     "output_type": "stream",
     "text": [
      "The dotenv extension is already loaded. To reload it, use:\n",
      "  %reload_ext dotenv\n"
     ]
    }
   ],
   "source": [
    "\n",
    "%load_ext dotenv\n",
    "%dotenv\n",
    "# set UPSTAGE_API_KEY"
   ]
  },
  {
   "cell_type": "code",
   "execution_count": 16,
   "metadata": {},
   "outputs": [],
   "source": [
    "import warnings\n",
    "\n",
    "warnings.filterwarnings(\"ignore\")"
   ]
  },
  {
   "cell_type": "code",
   "execution_count": 22,
   "metadata": {},
   "outputs": [],
   "source": [
    "from langchain_core.prompts import PromptTemplate\n",
    "from langchain_core.output_parsers import StrOutputParser\n",
    "from langchain_upstage import ChatUpstage\n",
    "from langchain_community.document_loaders import TextLoader\n"
   ]
  },
  {
   "cell_type": "code",
   "execution_count": 23,
   "metadata": {},
   "outputs": [
    {
     "name": "stdout",
     "output_type": "stream",
     "text": [
      "2024-05-18 02:27:44 - 철수: 안녕하세요, 영희 씨. 오늘 기분이 어때요?\n",
      "2024-05-18 02:30:44 - 영희: 안녕하세요, 철수 씨. 저는 괜찮아요. 철수 씨는요?\n",
      "2024-05-18 02:33:44 - 철수: 저도 괜찮아요. 혹시 좋아하는 영화 있으세요?\n",
      "2024-05-18 02:36:44 - 영희: 음... 저는 로맨스 영화를 좋아해요. '어바웃 타임'이 특히 좋아요. 철수 씨는요?\n",
      "2024-05-18 02:39:44 - 철수: 아, '어바웃 타임' 저도 정말 좋아해요! 저는 액션 영화를 좋아하는데, '인셉션'이 가장 좋아요.\n",
      "2024-05-18 02:42:44 - 영희: 오, '인셉션'도 정말 재미있죠. 꿈속의 꿈 이야기 정말 신기했어요.\n",
      "2024-05-18 02:45:44 - 철수: 네, 맞아요. 영화 이야기 하니까 영화관에 같이 가고 싶네요.\n",
      "2024-05-18 02:48:44 - 영희: 저도 좋아요! 좋은 영화 있으면 같이 봐요.\n",
      "2024-05-18 02:51:44 - 철수: 네, 그럼 주말에 시간 괜찮으세요?\n"
     ]
    }
   ],
   "source": [
    "loader = TextLoader(\"./chat_conversation.txt\")\n",
    "docs = loader.load()\n",
    "\n",
    "print(docs[0].page_content[:1000])"
   ]
  },
  {
   "cell_type": "code",
   "execution_count": 24,
   "metadata": {},
   "outputs": [],
   "source": [
    "# Chat prompt\n",
    "llm = ChatUpstage()\n",
    "\n",
    "prompt_template = PromptTemplate.from_template(\n",
    "    \"\"\"\n",
    "    Please provide most relevant response based on the following context which is a text of chat between two possible lovers.\n",
    "    You're {agent_type} \n",
    "    ---\n",
    "    Question: {question}\n",
    "    ---\n",
    "    Context: {Context}\n",
    "    \"\"\"\n",
    ")\n",
    "chain = prompt_template | llm | StrOutputParser()\n",
    "# 3. define chain\n",
    "agent_type = \"optimist love agent with positive, encouraging, and supportive personality\"\n",
    "question = \"What should I say next?\"\n",
    "\n",
    "chain = prompt_template | llm | StrOutputParser()\n"
   ]
  },
  {
   "cell_type": "code",
   "execution_count": 26,
   "metadata": {},
   "outputs": [
    {
     "data": {
      "text/plain": [
       "'Based on the provided context, the personality of the guy, 철수, appears to be friendly, open-minded, and engaging. He initiates a conversation with a polite greeting and shows genuine interest in getting to know the other person, 영희. He also shares his personal preferences, such as his favorite movie, and expresses his desire to spend time together, suggesting a date at the movie theater. Overall, his responses are positive and supportive, indicating a friendly and approachable personality.'"
      ]
     },
     "execution_count": 26,
     "metadata": {},
     "output_type": "execute_result"
    }
   ],
   "source": [
    "chain.invoke({\"agent_type\": agent_type, \"question\": \"What do you think is the personality of the guy?\", \"Context\": docs})"
   ]
  },
  {
   "cell_type": "code",
   "execution_count": 27,
   "metadata": {},
   "outputs": [
    {
     "data": {
      "text/plain": [
       "'\\nBased on the provided context, it appears that the relationship between 철수 and 영희는 at an early stage. They seem to be getting to know each other and engaging in casual conversation about their interests, such as favorite movies. There is a friendly and positive tone to their exchange, which suggests that they may be interested in developing a closer relationship. However, without more information, it is difficult to determine the exact nature of their relationship.'"
      ]
     },
     "execution_count": 27,
     "metadata": {},
     "output_type": "execute_result"
    }
   ],
   "source": [
    "chain.invoke({\"agent_type\": agent_type, \"question\": \"Describe the current relationship status of these two people\", \"Context\": docs})"
   ]
  },
  {
   "cell_type": "code",
   "execution_count": 28,
   "metadata": {},
   "outputs": [
    {
     "data": {
      "text/plain": [
       "'It seems like the guy (철수) is interested in you (영희) based on the context of the chat conversation. He initiated the conversation, asked about your mood, and showed interest in your favorite movie. He also expressed his own movie preferences and suggested going to the cinema together. This indicates that he is open to spending more time with you and getting to know you better.'"
      ]
     },
     "execution_count": 28,
     "metadata": {},
     "output_type": "execute_result"
    }
   ],
   "source": [
    "chain.invoke({\"agent_type\": agent_type, \"question\": \"Do you think the guy is interested in me?\", \"Context\": docs})"
   ]
  },
  {
   "cell_type": "code",
   "execution_count": 30,
   "metadata": {},
   "outputs": [
    {
     "data": {
      "text/plain": [
       "'철수의 마지막 문자에 대한 답변으로, \"주말에 시간 괜찮으시면 영화관에 같이 가요!\"라고 말해보세요. 이렇게 말하면 철수와의 만남을 기대하며 긍정적인 분위기를 유지할 수 있을 것입니다.'"
      ]
     },
     "execution_count": 30,
     "metadata": {},
     "output_type": "execute_result"
    }
   ],
   "source": [
    "chain.invoke({\"agent_type\": agent_type, \"question\": \"What should I say in reply to his last text?\", \"Context\": docs})"
   ]
  },
  {
   "cell_type": "code",
   "execution_count": null,
   "metadata": {},
   "outputs": [],
   "source": []
  }
 ],
 "metadata": {
  "kernelspec": {
   "display_name": ".venv",
   "language": "python",
   "name": "python3"
  },
  "language_info": {
   "codemirror_mode": {
    "name": "ipython",
    "version": 3
   },
   "file_extension": ".py",
   "mimetype": "text/x-python",
   "name": "python",
   "nbconvert_exporter": "python",
   "pygments_lexer": "ipython3",
   "version": "3.11.4"
  }
 },
 "nbformat": 4,
 "nbformat_minor": 2
}
